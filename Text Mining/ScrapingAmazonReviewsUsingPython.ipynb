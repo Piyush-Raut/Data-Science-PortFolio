{
 "cells": [
  {
   "cell_type": "code",
   "execution_count": 12,
   "id": "7e3c56fd",
   "metadata": {
    "ExecuteTime": {
     "end_time": "2022-02-14T08:53:28.104370Z",
     "start_time": "2022-02-14T08:53:15.655774Z"
    }
   },
   "outputs": [],
   "source": [
    "import requests\n",
    "from bs4 import BeautifulSoup\n",
    "import pandas as pd"
   ]
  },
  {
   "cell_type": "code",
   "execution_count": 2,
   "id": "22651174",
   "metadata": {
    "ExecuteTime": {
     "end_time": "2022-02-14T08:50:29.192483Z",
     "start_time": "2022-02-14T08:50:29.174314Z"
    }
   },
   "outputs": [],
   "source": [
    "url=\"https://www.amazon.in/Bosch-Inverter-Control-Automatic-Loading/product-reviews/B08SR372S7/ref=cm_cr_dp_d_show_all_btm?ie=UTF8&reviewerType=all_reviews&pageNumber=\""
   ]
  },
  {
   "cell_type": "code",
   "execution_count": 3,
   "id": "02b00a20",
   "metadata": {
    "ExecuteTime": {
     "end_time": "2022-02-14T08:50:31.298494Z",
     "start_time": "2022-02-14T08:50:31.267720Z"
    }
   },
   "outputs": [
    {
     "data": {
      "text/plain": [
       "'https://www.amazon.in/Bosch-Inverter-Control-Automatic-Loading/product-reviews/B08SR372S7/ref=cm_cr_dp_d_show_all_btm?ie=UTF8&reviewerType=all_reviews&pageNumber='"
      ]
     },
     "execution_count": 3,
     "metadata": {},
     "output_type": "execute_result"
    }
   ],
   "source": [
    "url"
   ]
  },
  {
   "cell_type": "code",
   "execution_count": 7,
   "id": "4ba30db7",
   "metadata": {
    "ExecuteTime": {
     "end_time": "2022-02-14T08:51:11.637596Z",
     "start_time": "2022-02-14T08:51:11.629060Z"
    }
   },
   "outputs": [],
   "source": [
    "reviewlist = []"
   ]
  },
  {
   "cell_type": "code",
   "execution_count": 8,
   "id": "eb44f231",
   "metadata": {
    "ExecuteTime": {
     "end_time": "2022-02-14T08:51:14.038538Z",
     "start_time": "2022-02-14T08:51:14.023353Z"
    }
   },
   "outputs": [],
   "source": [
    "def get_soup(url):\n",
    "    r = requests.get(url)\n",
    "    soup = BeautifulSoup(r.text, 'html.parser')\n",
    "    return soup"
   ]
  },
  {
   "cell_type": "code",
   "execution_count": 9,
   "id": "5ba15c47",
   "metadata": {
    "ExecuteTime": {
     "end_time": "2022-02-14T08:51:24.282571Z",
     "start_time": "2022-02-14T08:51:24.268543Z"
    }
   },
   "outputs": [],
   "source": [
    "def get_reviews(soup):\n",
    "    reviews = soup.find_all('div', {'data-hook': 'review'})\n",
    "    try:\n",
    "        for item in reviews:\n",
    "            review = {\n",
    "            'product': soup.title.text.replace('Amazon.ca:Customer reviews: ', '').strip(), \n",
    "            'date': item.find('span', {'data-hook': 'review-date'}).text.strip(),\n",
    "            'title': item.find('a', {'data-hook': 'review-title'}).text.strip(),\n",
    "            'rating':  float(item.find('i', {'data-hook': 'review-star-rating'}).text.replace('out of 5 stars', '').strip()),\n",
    "            'body': item.find('span', {'data-hook': 'review-body'}).text.strip(),\n",
    "            }\n",
    "            reviewlist.append(review)\n",
    "    except:\n",
    "        pass\n",
    "    "
   ]
  },
  {
   "cell_type": "code",
   "execution_count": 10,
   "id": "ec965313",
   "metadata": {
    "ExecuteTime": {
     "end_time": "2022-02-14T08:52:57.067335Z",
     "start_time": "2022-02-14T08:51:26.969566Z"
    }
   },
   "outputs": [
    {
     "name": "stdout",
     "output_type": "stream",
     "text": [
      "Getting page: 0\n",
      "10\n",
      "Getting page: 1\n",
      "20\n",
      "Getting page: 2\n",
      "30\n",
      "Getting page: 3\n",
      "40\n",
      "Getting page: 4\n",
      "50\n",
      "Getting page: 5\n",
      "60\n",
      "Getting page: 6\n",
      "70\n",
      "Getting page: 7\n",
      "80\n",
      "Getting page: 8\n",
      "90\n",
      "Getting page: 9\n",
      "90\n",
      "Getting page: 10\n",
      "100\n",
      "Getting page: 11\n",
      "110\n",
      "Getting page: 12\n",
      "120\n",
      "Getting page: 13\n",
      "120\n",
      "Getting page: 14\n",
      "120\n",
      "Getting page: 15\n",
      "130\n",
      "Getting page: 16\n",
      "130\n",
      "Getting page: 17\n",
      "140\n",
      "Getting page: 18\n",
      "150\n",
      "Getting page: 19\n",
      "150\n",
      "Getting page: 20\n",
      "160\n",
      "Getting page: 21\n",
      "170\n",
      "Getting page: 22\n",
      "180\n",
      "Getting page: 23\n",
      "190\n",
      "Getting page: 24\n",
      "200\n",
      "Getting page: 25\n",
      "210\n",
      "Getting page: 26\n",
      "210\n",
      "Getting page: 27\n",
      "220\n",
      "Getting page: 28\n",
      "230\n",
      "Getting page: 29\n",
      "240\n",
      "Getting page: 30\n",
      "240\n",
      "Getting page: 31\n",
      "240\n",
      "Getting page: 32\n",
      "250\n",
      "Getting page: 33\n",
      "260\n",
      "Getting page: 34\n",
      "270\n",
      "Getting page: 35\n",
      "280\n",
      "Getting page: 36\n",
      "290\n",
      "Getting page: 37\n",
      "290\n",
      "Getting page: 38\n",
      "300\n",
      "Getting page: 39\n",
      "310\n",
      "Getting page: 40\n",
      "320\n",
      "Getting page: 41\n",
      "330\n",
      "Getting page: 42\n",
      "340\n",
      "Getting page: 43\n",
      "350\n",
      "Getting page: 44\n",
      "360\n",
      "Getting page: 45\n",
      "360\n",
      "Getting page: 46\n",
      "370\n",
      "Getting page: 47\n",
      "380\n",
      "Getting page: 48\n",
      "390\n",
      "Getting page: 49\n",
      "400\n",
      "Getting page: 50\n",
      "410\n",
      "Getting page: 51\n",
      "420\n",
      "Getting page: 52\n",
      "430\n",
      "Getting page: 53\n",
      "440\n",
      "Getting page: 54\n",
      "450\n",
      "Getting page: 55\n",
      "460\n",
      "Getting page: 56\n",
      "470\n",
      "Getting page: 57\n",
      "480\n",
      "Getting page: 58\n",
      "490\n",
      "Getting page: 59\n",
      "500\n",
      "Getting page: 60\n",
      "510\n",
      "Getting page: 61\n",
      "510\n",
      "Getting page: 62\n",
      "520\n",
      "Getting page: 63\n",
      "520\n",
      "Getting page: 64\n",
      "530\n",
      "Getting page: 65\n",
      "540\n",
      "Getting page: 66\n",
      "550\n",
      "Getting page: 67\n",
      "550\n",
      "Getting page: 68\n",
      "560\n",
      "Getting page: 69\n",
      "570\n",
      "Getting page: 70\n",
      "580\n",
      "Getting page: 71\n",
      "590\n",
      "Getting page: 72\n",
      "600\n",
      "Getting page: 73\n",
      "610\n",
      "Getting page: 74\n",
      "620\n",
      "Getting page: 75\n",
      "630\n",
      "Getting page: 76\n",
      "640\n",
      "Getting page: 77\n",
      "640\n",
      "Getting page: 78\n",
      "650\n",
      "Getting page: 79\n",
      "660\n",
      "Getting page: 80\n",
      "670\n",
      "Getting page: 81\n",
      "680\n",
      "Getting page: 82\n",
      "680\n",
      "Getting page: 83\n",
      "690\n",
      "Getting page: 84\n",
      "700\n",
      "Getting page: 85\n",
      "710\n",
      "Getting page: 86\n",
      "710\n",
      "Getting page: 87\n",
      "720\n",
      "Getting page: 88\n",
      "720\n",
      "Getting page: 89\n",
      "730\n",
      "Getting page: 90\n",
      "730\n",
      "Getting page: 91\n",
      "740\n",
      "Getting page: 92\n",
      "750\n",
      "Getting page: 93\n",
      "760\n",
      "Getting page: 94\n",
      "770\n",
      "Getting page: 95\n",
      "780\n",
      "Getting page: 96\n",
      "790\n",
      "Getting page: 97\n",
      "800\n",
      "Getting page: 98\n",
      "810\n",
      "Getting page: 99\n",
      "820\n"
     ]
    }
   ],
   "source": [
    "for x in range(100):\n",
    "    soup = get_soup(url)\n",
    "    print(f'Getting page: {x}')\n",
    "    get_reviews(soup)\n",
    "    print(len(reviewlist))\n",
    "    if not soup.find('li', {'class': 'a-disabled a-last'}):\n",
    "        pass\n",
    "    else:\n",
    "        break"
   ]
  },
  {
   "cell_type": "code",
   "execution_count": 13,
   "id": "b857cc5c",
   "metadata": {
    "ExecuteTime": {
     "end_time": "2022-02-14T08:53:33.265976Z",
     "start_time": "2022-02-14T08:53:33.066219Z"
    }
   },
   "outputs": [],
   "source": [
    "df = pd.DataFrame(reviewlist)\n",
    "df.to_csv(r'reviews6.csv', index=False)"
   ]
  }
 ],
 "metadata": {
  "kernelspec": {
   "display_name": "Python 3 (ipykernel)",
   "language": "python",
   "name": "python3"
  },
  "language_info": {
   "codemirror_mode": {
    "name": "ipython",
    "version": 3
   },
   "file_extension": ".py",
   "mimetype": "text/x-python",
   "name": "python",
   "nbconvert_exporter": "python",
   "pygments_lexer": "ipython3",
   "version": "3.9.7"
  },
  "varInspector": {
   "cols": {
    "lenName": 16,
    "lenType": 16,
    "lenVar": 40
   },
   "kernels_config": {
    "python": {
     "delete_cmd_postfix": "",
     "delete_cmd_prefix": "del ",
     "library": "var_list.py",
     "varRefreshCmd": "print(var_dic_list())"
    },
    "r": {
     "delete_cmd_postfix": ") ",
     "delete_cmd_prefix": "rm(",
     "library": "var_list.r",
     "varRefreshCmd": "cat(var_dic_list()) "
    }
   },
   "types_to_exclude": [
    "module",
    "function",
    "builtin_function_or_method",
    "instance",
    "_Feature"
   ],
   "window_display": false
  }
 },
 "nbformat": 4,
 "nbformat_minor": 5
}
