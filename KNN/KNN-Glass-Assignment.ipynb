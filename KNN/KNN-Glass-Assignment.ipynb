{
 "cells": [
  {
   "cell_type": "code",
   "execution_count": 21,
   "id": "bcf36a3e",
   "metadata": {
    "ExecuteTime": {
     "end_time": "2022-01-31T06:52:52.007039Z",
     "start_time": "2022-01-31T06:52:51.989630Z"
    }
   },
   "outputs": [],
   "source": [
    "import pandas as pd\n",
    "import numpy as np\n",
    "\n",
    "import matplotlib.pyplot as plt\n",
    "import seaborn as sns\n",
    "\n",
    "from sklearn.model_selection import KFold,cross_val_score\n",
    "from sklearn.model_selection import train_test_split,GridSearchCV\n",
    "from sklearn.neighbors import KNeighborsClassifier\n",
    "from sklearn.metrics import accuracy_score\n",
    "\n",
    "import warnings\n",
    "warnings.filterwarnings('ignore')"
   ]
  },
  {
   "cell_type": "code",
   "execution_count": 22,
   "id": "486cac83",
   "metadata": {
    "ExecuteTime": {
     "end_time": "2022-01-31T06:52:55.079845Z",
     "start_time": "2022-01-31T06:52:55.053514Z"
    }
   },
   "outputs": [],
   "source": [
    "df = pd.read_csv('glass.csv')"
   ]
  },
  {
   "cell_type": "code",
   "execution_count": 23,
   "id": "b19de261",
   "metadata": {
    "ExecuteTime": {
     "end_time": "2022-01-31T06:52:57.499580Z",
     "start_time": "2022-01-31T06:52:57.440887Z"
    }
   },
   "outputs": [
    {
     "data": {
      "text/html": [
       "<div>\n",
       "<style scoped>\n",
       "    .dataframe tbody tr th:only-of-type {\n",
       "        vertical-align: middle;\n",
       "    }\n",
       "\n",
       "    .dataframe tbody tr th {\n",
       "        vertical-align: top;\n",
       "    }\n",
       "\n",
       "    .dataframe thead th {\n",
       "        text-align: right;\n",
       "    }\n",
       "</style>\n",
       "<table border=\"1\" class=\"dataframe\">\n",
       "  <thead>\n",
       "    <tr style=\"text-align: right;\">\n",
       "      <th></th>\n",
       "      <th>RI</th>\n",
       "      <th>Na</th>\n",
       "      <th>Mg</th>\n",
       "      <th>Al</th>\n",
       "      <th>Si</th>\n",
       "      <th>K</th>\n",
       "      <th>Ca</th>\n",
       "      <th>Ba</th>\n",
       "      <th>Fe</th>\n",
       "      <th>Type</th>\n",
       "    </tr>\n",
       "  </thead>\n",
       "  <tbody>\n",
       "    <tr>\n",
       "      <th>0</th>\n",
       "      <td>1.52101</td>\n",
       "      <td>13.64</td>\n",
       "      <td>4.49</td>\n",
       "      <td>1.10</td>\n",
       "      <td>71.78</td>\n",
       "      <td>0.06</td>\n",
       "      <td>8.75</td>\n",
       "      <td>0.0</td>\n",
       "      <td>0.0</td>\n",
       "      <td>1</td>\n",
       "    </tr>\n",
       "    <tr>\n",
       "      <th>1</th>\n",
       "      <td>1.51761</td>\n",
       "      <td>13.89</td>\n",
       "      <td>3.60</td>\n",
       "      <td>1.36</td>\n",
       "      <td>72.73</td>\n",
       "      <td>0.48</td>\n",
       "      <td>7.83</td>\n",
       "      <td>0.0</td>\n",
       "      <td>0.0</td>\n",
       "      <td>1</td>\n",
       "    </tr>\n",
       "    <tr>\n",
       "      <th>2</th>\n",
       "      <td>1.51618</td>\n",
       "      <td>13.53</td>\n",
       "      <td>3.55</td>\n",
       "      <td>1.54</td>\n",
       "      <td>72.99</td>\n",
       "      <td>0.39</td>\n",
       "      <td>7.78</td>\n",
       "      <td>0.0</td>\n",
       "      <td>0.0</td>\n",
       "      <td>1</td>\n",
       "    </tr>\n",
       "    <tr>\n",
       "      <th>3</th>\n",
       "      <td>1.51766</td>\n",
       "      <td>13.21</td>\n",
       "      <td>3.69</td>\n",
       "      <td>1.29</td>\n",
       "      <td>72.61</td>\n",
       "      <td>0.57</td>\n",
       "      <td>8.22</td>\n",
       "      <td>0.0</td>\n",
       "      <td>0.0</td>\n",
       "      <td>1</td>\n",
       "    </tr>\n",
       "    <tr>\n",
       "      <th>4</th>\n",
       "      <td>1.51742</td>\n",
       "      <td>13.27</td>\n",
       "      <td>3.62</td>\n",
       "      <td>1.24</td>\n",
       "      <td>73.08</td>\n",
       "      <td>0.55</td>\n",
       "      <td>8.07</td>\n",
       "      <td>0.0</td>\n",
       "      <td>0.0</td>\n",
       "      <td>1</td>\n",
       "    </tr>\n",
       "  </tbody>\n",
       "</table>\n",
       "</div>"
      ],
      "text/plain": [
       "        RI     Na    Mg    Al     Si     K    Ca   Ba   Fe  Type\n",
       "0  1.52101  13.64  4.49  1.10  71.78  0.06  8.75  0.0  0.0     1\n",
       "1  1.51761  13.89  3.60  1.36  72.73  0.48  7.83  0.0  0.0     1\n",
       "2  1.51618  13.53  3.55  1.54  72.99  0.39  7.78  0.0  0.0     1\n",
       "3  1.51766  13.21  3.69  1.29  72.61  0.57  8.22  0.0  0.0     1\n",
       "4  1.51742  13.27  3.62  1.24  73.08  0.55  8.07  0.0  0.0     1"
      ]
     },
     "execution_count": 23,
     "metadata": {},
     "output_type": "execute_result"
    }
   ],
   "source": [
    "glass=pd.read_csv(\"glass.csv\")\n",
    "glass.head()"
   ]
  },
  {
   "cell_type": "code",
   "execution_count": 24,
   "id": "c06148f2",
   "metadata": {
    "ExecuteTime": {
     "end_time": "2022-01-31T06:53:00.192573Z",
     "start_time": "2022-01-31T06:53:00.157597Z"
    }
   },
   "outputs": [
    {
     "name": "stdout",
     "output_type": "stream",
     "text": [
      "<class 'pandas.core.frame.DataFrame'>\n",
      "RangeIndex: 214 entries, 0 to 213\n",
      "Data columns (total 10 columns):\n",
      " #   Column  Non-Null Count  Dtype  \n",
      "---  ------  --------------  -----  \n",
      " 0   RI      214 non-null    float64\n",
      " 1   Na      214 non-null    float64\n",
      " 2   Mg      214 non-null    float64\n",
      " 3   Al      214 non-null    float64\n",
      " 4   Si      214 non-null    float64\n",
      " 5   K       214 non-null    float64\n",
      " 6   Ca      214 non-null    float64\n",
      " 7   Ba      214 non-null    float64\n",
      " 8   Fe      214 non-null    float64\n",
      " 9   Type    214 non-null    int64  \n",
      "dtypes: float64(9), int64(1)\n",
      "memory usage: 16.8 KB\n"
     ]
    }
   ],
   "source": [
    "glass.info()"
   ]
  },
  {
   "cell_type": "code",
   "execution_count": 25,
   "id": "7f186f39",
   "metadata": {
    "ExecuteTime": {
     "end_time": "2022-01-31T06:53:02.549624Z",
     "start_time": "2022-01-31T06:53:02.518869Z"
    }
   },
   "outputs": [
    {
     "data": {
      "text/plain": [
       "RI      0\n",
       "Na      0\n",
       "Mg      0\n",
       "Al      0\n",
       "Si      0\n",
       "K       0\n",
       "Ca      0\n",
       "Ba      0\n",
       "Fe      0\n",
       "Type    0\n",
       "dtype: int64"
      ]
     },
     "execution_count": 25,
     "metadata": {},
     "output_type": "execute_result"
    }
   ],
   "source": [
    "glass.isnull().sum()"
   ]
  },
  {
   "cell_type": "markdown",
   "id": "5a52a51d",
   "metadata": {},
   "source": [
    "\n",
    "### Extracting the independent and dependent variables from the input dataset\n"
   ]
  },
  {
   "cell_type": "code",
   "execution_count": 26,
   "id": "4569faaf",
   "metadata": {
    "ExecuteTime": {
     "end_time": "2022-01-31T06:53:07.896257Z",
     "start_time": "2022-01-31T06:53:07.876252Z"
    }
   },
   "outputs": [],
   "source": [
    "x=glass.iloc[:,0:9]\n",
    "y=glass.iloc[:,9]"
   ]
  },
  {
   "cell_type": "code",
   "execution_count": 27,
   "id": "176150de",
   "metadata": {
    "ExecuteTime": {
     "end_time": "2022-01-31T06:53:17.767610Z",
     "start_time": "2022-01-31T06:53:13.470265Z"
    }
   },
   "outputs": [
    {
     "data": {
      "text/plain": [
       "<AxesSubplot:xlabel='Type', ylabel='Density'>"
      ]
     },
     "execution_count": 27,
     "metadata": {},
     "output_type": "execute_result"
    },
    {
     "data": {
      "image/png": "[encoded data removed]",
      "text/plain": [
       "<Figure size 720x576 with 9 Axes>"
      ]
     },
     "metadata": {},
     "output_type": "display_data"
    }
   ],
   "source": [
    "plt.figure(figsize=(10,8))\n",
    "plt.subplot(3,3,1)\n",
    "sns.distplot(glass.RI)\n",
    "plt.subplot(3,3,2)\n",
    "sns.distplot(glass.Na)\n",
    "plt.subplot(3,3,3)\n",
    "sns.distplot(glass.Mg)\n",
    "plt.subplot(3,3,4)\n",
    "sns.distplot(glass.Al)\n",
    "plt.subplot(3,3,5)\n",
    "sns.distplot(glass.Si)\n",
    "plt.subplot(3,3,6)\n",
    "sns.distplot(glass.K)\n",
    "plt.subplot(3,3,7)\n",
    "sns.distplot(glass.Ca)\n",
    "plt.subplot(3,3,8)\n",
    "sns.distplot(glass.Fe)\n",
    "plt.subplot(3,3,9)\n",
    "sns.distplot(glass.Type)"
   ]
  },
  {
   "cell_type": "markdown",
   "id": "88508255",
   "metadata": {},
   "source": [
    "\n",
    "### Standardising the data to avoid variance among the features in the dataset"
   ]
  },
  {
   "cell_type": "code",
   "execution_count": 28,
   "id": "16bcf6a8",
   "metadata": {
    "ExecuteTime": {
     "end_time": "2022-01-31T06:53:21.505868Z",
     "start_time": "2022-01-31T06:53:21.485202Z"
    }
   },
   "outputs": [],
   "source": [
    "scale=preprocessing.StandardScaler()\n",
    "x=scale.fit_transform(x)"
   ]
  },
  {
   "cell_type": "code",
   "execution_count": 29,
   "id": "5aad9977",
   "metadata": {
    "ExecuteTime": {
     "end_time": "2022-01-31T06:53:24.447320Z",
     "start_time": "2022-01-31T06:53:24.436265Z"
    }
   },
   "outputs": [],
   "source": [
    "#splitting data into training and test data\n",
    "x_train,x_test,y_train,y_test=train_test_split(x,y,test_size=0.2,random_state=7)"
   ]
  },
  {
   "cell_type": "code",
   "execution_count": 30,
   "id": "dc2713c3",
   "metadata": {
    "ExecuteTime": {
     "end_time": "2022-01-31T06:53:28.015355Z",
     "start_time": "2022-01-31T06:53:27.991838Z"
    }
   },
   "outputs": [
    {
     "data": {
      "text/plain": [
       "KNeighborsClassifier(n_neighbors=4)"
      ]
     },
     "execution_count": 30,
     "metadata": {},
     "output_type": "execute_result"
    }
   ],
   "source": [
    "model1=KNeighborsClassifier(n_neighbors=4)\n",
    "model1.fit(x_train,y_train)"
   ]
  },
  {
   "cell_type": "code",
   "execution_count": 31,
   "id": "b619f338",
   "metadata": {
    "ExecuteTime": {
     "end_time": "2022-01-31T06:53:30.805612Z",
     "start_time": "2022-01-31T06:53:30.793661Z"
    }
   },
   "outputs": [],
   "source": [
    "y_pred=model1.predict(x_test)"
   ]
  },
  {
   "cell_type": "code",
   "execution_count": 32,
   "id": "2f0d5c64",
   "metadata": {
    "ExecuteTime": {
     "end_time": "2022-01-31T06:53:33.428696Z",
     "start_time": "2022-01-31T06:53:33.413579Z"
    }
   },
   "outputs": [
    {
     "data": {
      "text/plain": [
       "0.6744186046511628"
      ]
     },
     "execution_count": 32,
     "metadata": {},
     "output_type": "execute_result"
    }
   ],
   "source": [
    "accuracy=accuracy_score(y_test,y_pred)\n",
    "accuracy"
   ]
  },
  {
   "cell_type": "markdown",
   "id": "36ac2c3b",
   "metadata": {},
   "source": [
    "### Using gridsearchCV to identify the best parameter"
   ]
  },
  {
   "cell_type": "code",
   "execution_count": 39,
   "id": "b517f86e",
   "metadata": {
    "ExecuteTime": {
     "end_time": "2022-01-31T06:57:50.120764Z",
     "start_time": "2022-01-31T06:57:50.112820Z"
    }
   },
   "outputs": [],
   "source": [
    "n_neighbors = np.array(range(1,50))\n",
    "param_grid = dict(n_neighbors=n_neighbors)\n",
    "model=KNeighborsClassifier()"
   ]
  },
  {
   "cell_type": "code",
   "execution_count": 34,
   "id": "296e75fd",
   "metadata": {
    "ExecuteTime": {
     "end_time": "2022-01-31T06:53:42.914522Z",
     "start_time": "2022-01-31T06:53:40.771673Z"
    }
   },
   "outputs": [
    {
     "data": {
      "text/plain": [
       "GridSearchCV(estimator=KNeighborsClassifier(),\n",
       "             param_grid={'n_neighbors': array([ 1,  2,  3,  4,  5,  6,  7,  8,  9, 10, 11, 12, 13, 14, 15, 16, 17,\n",
       "       18, 19, 20, 21, 22, 23, 24, 25, 26, 27, 28, 29, 30, 31, 32, 33, 34,\n",
       "       35, 36, 37, 38, 39, 40, 41, 42, 43, 44, 45, 46, 47, 48, 49])})"
      ]
     },
     "execution_count": 34,
     "metadata": {},
     "output_type": "execute_result"
    }
   ],
   "source": [
    "gsv=GridSearchCV(model,param_grid=param_grid)\n",
    "gsv.fit(x_train,y_train)"
   ]
  },
  {
   "cell_type": "code",
   "execution_count": 37,
   "id": "687ae7fd",
   "metadata": {
    "ExecuteTime": {
     "end_time": "2022-01-31T06:54:41.494570Z",
     "start_time": "2022-01-31T06:54:41.486538Z"
    }
   },
   "outputs": [
    {
     "name": "stdout",
     "output_type": "stream",
     "text": [
      "0.7307563025210084\n",
      "{'n_neighbors': 4}\n"
     ]
    }
   ],
   "source": [
    "print(gsv.best_score_)\n",
    "print(gsv.best_params_)"
   ]
  },
  {
   "cell_type": "code",
   "execution_count": 38,
   "id": "5187f798",
   "metadata": {
    "ExecuteTime": {
     "end_time": "2022-01-31T06:54:48.743039Z",
     "start_time": "2022-01-31T06:54:45.560647Z"
    }
   },
   "outputs": [
    {
     "data": {
      "image/png": "[encoded data removed]",
      "text/plain": [
       "<Figure size 432x288 with 1 Axes>"
      ]
     },
     "metadata": {},
     "output_type": "display_data"
    }
   ],
   "source": [
    "k_range = range(1,50)\n",
    "k_scores = []\n",
    "for k in k_range:\n",
    "    knn = KNeighborsClassifier(n_neighbors=k)\n",
    "    scores = cross_val_score(knn, x_train, y_train, cv=10)\n",
    "    k_scores.append(scores.mean())\n",
    "plt.plot(k_range, k_scores)\n",
    "plt.xlabel('Value of K for KNN')\n",
    "plt.ylabel('Cross-Validated Accuracy')\n",
    "plt.show()"
   ]
  }
 ],
 "metadata": {
  "kernelspec": {
   "display_name": "Python 3 (ipykernel)",
   "language": "python",
   "name": "python3"
  },
  "language_info": {
   "codemirror_mode": {
    "name": "ipython",
    "version": 3
   },
   "file_extension": ".py",
   "mimetype": "text/x-python",
   "name": "python",
   "nbconvert_exporter": "python",
   "pygments_lexer": "ipython3",
   "version": "3.9.7"
  }
 },
 "nbformat": 4,
 "nbformat_minor": 5
}
