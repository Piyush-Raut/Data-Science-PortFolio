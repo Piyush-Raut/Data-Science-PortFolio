{
 "cells": [
  {
   "cell_type": "code",
   "execution_count": 3,
   "id": "97ded1fc",
   "metadata": {
    "ExecuteTime": {
     "end_time": "2022-01-03T08:05:46.411897Z",
     "start_time": "2022-01-03T08:05:44.832149Z"
    }
   },
   "outputs": [],
   "source": [
    "import pandas as pd\n",
    "import numpy as np\n",
    "from scipy import stats\n",
    "from scipy.stats import norm\n",
    "from scipy.stats import chi2_contingency"
   ]
  },
  {
   "cell_type": "code",
   "execution_count": 4,
   "id": "d5df6928",
   "metadata": {
    "ExecuteTime": {
     "end_time": "2022-01-03T08:05:51.597441Z",
     "start_time": "2022-01-03T08:05:51.560444Z"
    }
   },
   "outputs": [
    {
     "data": {
      "text/html": [
       "<div>\n",
       "<style scoped>\n",
       "    .dataframe tbody tr th:only-of-type {\n",
       "        vertical-align: middle;\n",
       "    }\n",
       "\n",
       "    .dataframe tbody tr th {\n",
       "        vertical-align: top;\n",
       "    }\n",
       "\n",
       "    .dataframe thead th {\n",
       "        text-align: right;\n",
       "    }\n",
       "</style>\n",
       "<table border=\"1\" class=\"dataframe\">\n",
       "  <thead>\n",
       "    <tr style=\"text-align: right;\">\n",
       "      <th></th>\n",
       "      <th>Observed Values</th>\n",
       "      <th>East</th>\n",
       "      <th>West</th>\n",
       "      <th>North</th>\n",
       "      <th>South</th>\n",
       "    </tr>\n",
       "  </thead>\n",
       "  <tbody>\n",
       "    <tr>\n",
       "      <th>0</th>\n",
       "      <td>Males</td>\n",
       "      <td>50</td>\n",
       "      <td>142</td>\n",
       "      <td>131</td>\n",
       "      <td>70</td>\n",
       "    </tr>\n",
       "    <tr>\n",
       "      <th>1</th>\n",
       "      <td>Females</td>\n",
       "      <td>435</td>\n",
       "      <td>1523</td>\n",
       "      <td>1356</td>\n",
       "      <td>750</td>\n",
       "    </tr>\n",
       "  </tbody>\n",
       "</table>\n",
       "</div>"
      ],
      "text/plain": [
       "  Observed Values  East  West  North  South\n",
       "0           Males    50   142    131     70\n",
       "1         Females   435  1523   1356    750"
      ]
     },
     "execution_count": 4,
     "metadata": {},
     "output_type": "execute_result"
    }
   ],
   "source": [
    "data=pd.read_csv('BuyerRatio.csv')\n",
    "data"
   ]
  },
  {
   "cell_type": "markdown",
   "id": "151317d6",
   "metadata": {
    "ExecuteTime": {
     "end_time": "2022-01-09T08:09:41.206806Z",
     "start_time": "2022-01-09T08:09:41.197192Z"
    }
   },
   "source": [
    "\n",
    "\n",
    "H0 == The male-female buyer rations are similar across regions\n",
    "H1 == The male-female buyer rations are not similar across regions\n"
   ]
  },
  {
   "cell_type": "code",
   "execution_count": 6,
   "id": "14f952bc",
   "metadata": {
    "ExecuteTime": {
     "end_time": "2022-01-03T08:07:39.667827Z",
     "start_time": "2022-01-03T08:07:39.650824Z"
    }
   },
   "outputs": [],
   "source": [
    "obs=np.array([[50,142,131,70],[435,1523,1356,750]])"
   ]
  },
  {
   "cell_type": "code",
   "execution_count": 7,
   "id": "19f49f05",
   "metadata": {
    "ExecuteTime": {
     "end_time": "2022-01-03T08:07:49.461183Z",
     "start_time": "2022-01-03T08:07:49.436980Z"
    }
   },
   "outputs": [
    {
     "data": {
      "text/plain": [
       "array([[  50,  142,  131,   70],\n",
       "       [ 435, 1523, 1356,  750]])"
      ]
     },
     "execution_count": 7,
     "metadata": {},
     "output_type": "execute_result"
    }
   ],
   "source": [
    "obs"
   ]
  },
  {
   "cell_type": "code",
   "execution_count": 8,
   "id": "8157b004",
   "metadata": {
    "ExecuteTime": {
     "end_time": "2022-01-03T08:08:03.326912Z",
     "start_time": "2022-01-03T08:08:03.001810Z"
    }
   },
   "outputs": [
    {
     "data": {
      "text/plain": [
       "(1.595945538661058,\n",
       " 0.6603094907091882,\n",
       " 3,\n",
       " array([[  42.76531299,  146.81287862,  131.11756787,   72.30424052],\n",
       "        [ 442.23468701, 1518.18712138, 1355.88243213,  747.69575948]]))"
      ]
     },
     "execution_count": 8,
     "metadata": {},
     "output_type": "execute_result"
    }
   ],
   "source": [
    "chi2_contingency(obs)"
   ]
  },
  {
   "cell_type": "markdown",
   "id": "fe3ae02b",
   "metadata": {},
   "source": [
    "As Pvalue>0.05 H0 is accepted ie The male-female buyer rations are similar across regions"
   ]
  }
 ],
 "metadata": {
  "kernelspec": {
   "display_name": "Python 3 (ipykernel)",
   "language": "python",
   "name": "python3"
  },
  "language_info": {
   "codemirror_mode": {
    "name": "ipython",
    "version": 3
   },
   "file_extension": ".py",
   "mimetype": "text/x-python",
   "name": "python",
   "nbconvert_exporter": "python",
   "pygments_lexer": "ipython3",
   "version": "3.9.7"
  }
 },
 "nbformat": 4,
 "nbformat_minor": 5
}
